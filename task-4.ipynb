{
 "cells": [
  {
   "cell_type": "markdown",
   "id": "a31a9bd3-a5ad-4e5c-a406-9d4ecb14dcc2",
   "metadata": {},
   "source": [
    "# dictionary methods\n"
   ]
  },
  {
   "cell_type": "code",
   "execution_count": 4,
   "id": "6897126e-3786-418c-a96f-4f8c70775063",
   "metadata": {},
   "outputs": [],
   "source": [
    "fruits={\n",
    "    \"apple\":10,\n",
    "    \"banana\":5,\n",
    "    \"orange\":8\n",
    "}"
   ]
  },
  {
   "cell_type": "markdown",
   "id": "8ca86156-9cf3-4b87-9680-c3a209f2ea40",
   "metadata": {},
   "source": [
    "# 1.get()"
   ]
  },
  {
   "cell_type": "code",
   "execution_count": 12,
   "id": "43b011dd-78b9-4c24-82f9-ed68ebb85bbf",
   "metadata": {},
   "outputs": [
    {
     "name": "stdout",
     "output_type": "stream",
     "text": [
      "Apples: 10\n"
     ]
    }
   ],
   "source": [
    "apples=fruits.get(\"apple\",0)\n",
    "print(\"Apples:\",apples)"
   ]
  },
  {
   "cell_type": "markdown",
   "id": "ae78f1bc-10b4-4898-9b8a-146f50565c1a",
   "metadata": {},
   "source": [
    "# 2.update()"
   ]
  },
  {
   "cell_type": "code",
   "execution_count": 16,
   "id": "fa10de22-a367-4aa8-8944-85000212e66e",
   "metadata": {},
   "outputs": [
    {
     "name": "stdout",
     "output_type": "stream",
     "text": [
      "updated fruits: {'apple': 10, 'banana': 5, 'orange': 8, 'grape': 12}\n"
     ]
    }
   ],
   "source": [
    "fruits.update({\"grape\":12})\n",
    "print(\"updated fruits:\",fruits)"
   ]
  },
  {
   "cell_type": "markdown",
   "id": "a02db86f-4d71-4dab-87f7-e69a8264f87e",
   "metadata": {},
   "source": [
    "# 3.keys()"
   ]
  },
  {
   "cell_type": "code",
   "execution_count": 25,
   "id": "6c4e519c-8ab3-4a9b-bbf1-1bf0bb415586",
   "metadata": {},
   "outputs": [
    {
     "name": "stdout",
     "output_type": "stream",
     "text": [
      "fruit name: ['apple', 'banana', 'orange', 'grape']\n"
     ]
    }
   ],
   "source": [
    "fruits_names=fruits.keys()\n",
    "print(\"fruit name:\",list(fruits_names))"
   ]
  },
  {
   "cell_type": "markdown",
   "id": "9e56bd08-8440-49f0-9fd0-e50887029280",
   "metadata": {},
   "source": [
    "# 4.values()"
   ]
  },
  {
   "cell_type": "code",
   "execution_count": 34,
   "id": "77047f8b-4a5a-4787-a0f7-5994a88ec62b",
   "metadata": {},
   "outputs": [
    {
     "name": "stdout",
     "output_type": "stream",
     "text": [
      "quantities: [10, 5, 8, 12]\n"
     ]
    }
   ],
   "source": [
    "quantities=fruits.values()\n",
    "print(\"quantities:\",list(quantities))"
   ]
  },
  {
   "cell_type": "markdown",
   "id": "1b369a85-1b86-4462-bc01-8baba5a6c7ff",
   "metadata": {},
   "source": [
    "# 5.items()"
   ]
  },
  {
   "cell_type": "code",
   "execution_count": 39,
   "id": "bee2aee7-b1b3-4f1a-95e4-c0aec71437e8",
   "metadata": {},
   "outputs": [
    {
     "name": "stdout",
     "output_type": "stream",
     "text": [
      "fruits and quantities:\n",
      "apple : 10\n",
      "banana : 5\n",
      "orange : 8\n",
      "grape : 12\n"
     ]
    }
   ],
   "source": [
    "fruits_items=fruits.items()\n",
    "print(\"fruits and quantities:\")\n",
    "for name,quantity in fruits_items:\n",
    "    print(name,\":\",quantity)\n"
   ]
  },
  {
   "cell_type": "markdown",
   "id": "d4583587-8670-4888-82f7-cfdcea8371fc",
   "metadata": {},
   "source": [
    "# 6.pop()"
   ]
  },
  {
   "cell_type": "code",
   "execution_count": 44,
   "id": "93103c57-a6a8-430f-8dbf-4c11c1056e6c",
   "metadata": {},
   "outputs": [
    {
     "name": "stdout",
     "output_type": "stream",
     "text": [
      "removed fruits: 5\n",
      "fruits after removal: {'apple': 10, 'orange': 8, 'grape': 12}\n"
     ]
    }
   ],
   "source": [
    "removed_fruit=fruits.pop(\"banana\",\"not found\")\n",
    "print(\"removed fruits:\",removed_fruit)\n",
    "print(\"fruits after removal:\",fruits)"
   ]
  },
  {
   "cell_type": "markdown",
   "id": "e3de96ad-0915-4fef-925d-31279cb759b0",
   "metadata": {},
   "source": [
    "# 7. .popitem()"
   ]
  },
  {
   "cell_type": "code",
   "execution_count": 47,
   "id": "d761fce8-b237-4ca4-9083-3dbf903f7a17",
   "metadata": {},
   "outputs": [
    {
     "name": "stdout",
     "output_type": "stream",
     "text": [
      "last fruit removed: 5\n",
      "fruits after removal: {'apple': 10, 'orange': 8}\n"
     ]
    }
   ],
   "source": [
    "last_fruit=fruits.popitem()\n",
    "print(\"last fruit removed:\",removed_fruit)\n",
    "print(\"fruits after removal:\",fruits)"
   ]
  },
  {
   "cell_type": "markdown",
   "id": "93974633-30f8-4cf2-b889-8413a4047ff9",
   "metadata": {},
   "source": [
    "# 8. .clear()"
   ]
  },
  {
   "cell_type": "code",
   "execution_count": 50,
   "id": "f909b5f3-71f1-4198-acab-aafb911feb08",
   "metadata": {},
   "outputs": [
    {
     "name": "stdout",
     "output_type": "stream",
     "text": [
      "fruits afetr clearing: {}\n"
     ]
    }
   ],
   "source": [
    "fruits.clear()\n",
    "print(\"fruits afetr clearing:\",fruits)\n"
   ]
  },
  {
   "cell_type": "markdown",
   "id": "ff6414c6-01b8-4f26-a51b-c8749a2bf9cb",
   "metadata": {},
   "source": [
    "# craete 10 if/else with input code"
   ]
  },
  {
   "cell_type": "markdown",
   "id": "182b8044-0058-41ca-b5d3-1a499e730709",
   "metadata": {},
   "source": [
    "# 1\n"
   ]
  },
  {
   "cell_type": "code",
   "execution_count": 66,
   "id": "9bbe0bfb-31b9-46aa-8fb2-9480a152beec",
   "metadata": {},
   "outputs": [
    {
     "name": "stdin",
     "output_type": "stream",
     "text": [
      "Enter a number: 2\n"
     ]
    },
    {
     "name": "stdout",
     "output_type": "stream",
     "text": [
      "The number is positive.\n"
     ]
    }
   ],
   "source": [
    "number=int(input(\"Enter a number:\"))\n",
    "\n",
    "if number>0:\n",
    "        print(\"The number is positive.\")\n",
    "elif number<0:\n",
    "        print(\"The number is negetive.\")"
   ]
  },
  {
   "cell_type": "markdown",
   "id": "e16d7414-cad1-43ea-b513-c7bcb8e50fad",
   "metadata": {},
   "source": [
    "# 2"
   ]
  },
  {
   "cell_type": "code",
   "execution_count": 69,
   "id": "8f7df0a4-b425-4212-8a4b-e43e284c245e",
   "metadata": {},
   "outputs": [
    {
     "name": "stdin",
     "output_type": "stream",
     "text": [
      "enter a number  5\n"
     ]
    },
    {
     "name": "stdout",
     "output_type": "stream",
     "text": [
      "the number is less than 10.\n"
     ]
    }
   ],
   "source": [
    "number =int(input(\"enter a number \"))\n",
    "\n",
    "if number <10: \n",
    "    print(\"the number is less than 10.\")\n",
    "\n",
    "else :\n",
    "    print (\"the number is 10 or grater.\")\n",
    "                  "
   ]
  },
  {
   "cell_type": "markdown",
   "id": "842d1a1f-cd91-4d28-8855-75f0f67b4e5b",
   "metadata": {},
   "source": [
    "# 3"
   ]
  },
  {
   "cell_type": "code",
   "execution_count": 72,
   "id": "9e8fab86-e0bd-46fd-9c85-8c8084a17e1d",
   "metadata": {},
   "outputs": [
    {
     "name": "stdin",
     "output_type": "stream",
     "text": [
      "enter your age: 15\n"
     ]
    },
    {
     "name": "stdout",
     "output_type": "stream",
     "text": [
      "you are not an adult.\n"
     ]
    }
   ],
   "source": [
    "age =int (input(\"enter your age:\"))\n",
    "\n",
    "if  age >=18:\n",
    "    print (\"you are an adult.\")\n",
    "else:\n",
    "    print(\"you are not an adult.\")"
   ]
  },
  {
   "cell_type": "markdown",
   "id": "0d99c79b-c5b0-4c18-b10f-a1e31e0ae01e",
   "metadata": {},
   "source": [
    "# 4"
   ]
  },
  {
   "cell_type": "code",
   "execution_count": 75,
   "id": "ce691426-892f-4805-bd94-220a4f4113cb",
   "metadata": {},
   "outputs": [
    {
     "name": "stdin",
     "output_type": "stream",
     "text": [
      "enter a number: 2\n"
     ]
    },
    {
     "name": "stdout",
     "output_type": "stream",
     "text": [
      "the number is even.\n"
     ]
    }
   ],
   "source": [
    "number=int(input(\"enter a number:\"))\n",
    "\n",
    "if number %2==0:\n",
    "    print(\"the number is even.\")\n",
    "else:\n",
    "    print(\"the number is odd.\")"
   ]
  },
  {
   "cell_type": "markdown",
   "id": "b57654e1-2227-4fd2-ac29-3105b9bf8fc3",
   "metadata": {},
   "source": [
    "# 5"
   ]
  },
  {
   "cell_type": "code",
   "execution_count": 80,
   "id": "179074fe-1f48-4980-a299-7c682ff4521c",
   "metadata": {},
   "outputs": [
    {
     "name": "stdin",
     "output_type": "stream",
     "text": [
      "enter some text: shraddha\n"
     ]
    },
    {
     "name": "stdout",
     "output_type": "stream",
     "text": [
      "you entered: shraddha\n"
     ]
    }
   ],
   "source": [
    "text=input(\"enter some text:\")\n",
    "if text ==\"\":\n",
    "    print(\"you entered an empty string.\")\n",
    "else:\n",
    "    print(\"you entered:\",text)"
   ]
  },
  {
   "cell_type": "markdown",
   "id": "82838a51-975b-4a6d-ba9f-ab9f21d1e28d",
   "metadata": {},
   "source": [
    "# 6"
   ]
  },
  {
   "cell_type": "code",
   "execution_count": 85,
   "id": "62400e2c-a3af-4c7e-b3d1-7373a65a0895",
   "metadata": {},
   "outputs": [
    {
     "name": "stdin",
     "output_type": "stream",
     "text": [
      "enter the temperature: 20\n"
     ]
    },
    {
     "name": "stdout",
     "output_type": "stream",
     "text": [
      "its not hot outside.\n"
     ]
    }
   ],
   "source": [
    "temperature=int(input(\"enter the temperature:\"))\n",
    "if temperature>30:\n",
    "    print (\"its hot outside.\")\n",
    "else :\n",
    "    print(\"its not hot outside.\")\n",
    "    "
   ]
  },
  {
   "cell_type": "markdown",
   "id": "04349075-19e5-4682-b584-de7b54348963",
   "metadata": {},
   "source": [
    "# 7"
   ]
  },
  {
   "cell_type": "code",
   "execution_count": 90,
   "id": "b9135c41-1ce8-489a-89a6-e46a6ada70c3",
   "metadata": {},
   "outputs": [
    {
     "name": "stdin",
     "output_type": "stream",
     "text": [
      "enter a number:  2\n"
     ]
    },
    {
     "name": "stdout",
     "output_type": "stream",
     "text": [
      "the number is not zero.\n"
     ]
    }
   ],
   "source": [
    "number =int(input (\"enter a number: \"))\n",
    "if number ==0:\n",
    "    print(\"the number is zero.\")\n",
    "else:\n",
    "    print(\"the number is not zero.\")"
   ]
  },
  {
   "cell_type": "markdown",
   "id": "c96ef5fa-c86b-40da-9cbb-2a9c279dcbbb",
   "metadata": {},
   "source": [
    "# 8"
   ]
  },
  {
   "cell_type": "code",
   "execution_count": 93,
   "id": "b58fd6c3-1fb5-4105-8a4b-3026dd865d14",
   "metadata": {},
   "outputs": [
    {
     "name": "stdin",
     "output_type": "stream",
     "text": [
      "enter your age: 10\n"
     ]
    },
    {
     "name": "stdout",
     "output_type": "stream",
     "text": [
      "you cannot enter the movie.\n"
     ]
    }
   ],
   "source": [
    "age=int (input(\"enter your age:\"))\n",
    "if age>=13:\n",
    "    print(\"you can enter the movie.\")\n",
    "else:\n",
    "    print(\"you cannot enter the movie.\")"
   ]
  },
  {
   "cell_type": "markdown",
   "id": "c99eb182-63ba-44a1-9ca6-1e0b2b53e16e",
   "metadata": {},
   "source": [
    "# 9"
   ]
  },
  {
   "cell_type": "code",
   "execution_count": 98,
   "id": "ee9ca603-2526-4197-83bf-b6da9eef0cf7",
   "metadata": {},
   "outputs": [
    {
     "name": "stdin",
     "output_type": "stream",
     "text": [
      "enter the first number: 2\n",
      "enter the second number: 4\n"
     ]
    },
    {
     "name": "stdout",
     "output_type": "stream",
     "text": [
      "the number are not equal.\n"
     ]
    }
   ],
   "source": [
    "num1=int(input(\"enter the first number:\"))\n",
    "num2=int(input(\"enter the second number:\"))\n",
    "\n",
    "if num1==num2:\n",
    "    print(\"the numbers are equal.\")\n",
    "else :\n",
    "    print(\"the number are not equal.\")"
   ]
  },
  {
   "cell_type": "markdown",
   "id": "b7cda7f9-d194-4c3c-a967-8453d6cf9051",
   "metadata": {},
   "source": [
    "# 10"
   ]
  },
  {
   "cell_type": "code",
   "execution_count": 101,
   "id": "039fb328-160f-40b8-9727-be6f548afd2d",
   "metadata": {},
   "outputs": [
    {
     "name": "stdin",
     "output_type": "stream",
     "text": [
      "enter your height in centimeters: 110\n"
     ]
    },
    {
     "name": "stdout",
     "output_type": "stream",
     "text": [
      "you are not tall enough for the ride.\n"
     ]
    }
   ],
   "source": [
    "height =int(input(\"enter your height in centimeters:\"))\n",
    "if height>=120:\n",
    "    print(\"you are tall enough for the ride.\")\n",
    "else:\n",
    "    print (\"you are not tall enough for the ride.\")"
   ]
  },
  {
   "cell_type": "code",
   "execution_count": null,
   "id": "ea794410-0971-4f2a-af77-2aaaabb7efbc",
   "metadata": {},
   "outputs": [],
   "source": []
  }
 ],
 "metadata": {
  "kernelspec": {
   "display_name": "Python 3 (ipykernel)",
   "language": "python",
   "name": "python3"
  },
  "language_info": {
   "codemirror_mode": {
    "name": "ipython",
    "version": 3
   },
   "file_extension": ".py",
   "mimetype": "text/x-python",
   "name": "python",
   "nbconvert_exporter": "python",
   "pygments_lexer": "ipython3",
   "version": "3.12.4"
  }
 },
 "nbformat": 4,
 "nbformat_minor": 5
}
